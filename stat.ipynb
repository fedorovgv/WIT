{
  "nbformat": 4,
  "nbformat_minor": 0,
  "metadata": {
    "colab": {
      "provenance": [],
      "authorship_tag": "ABX9TyP0JhMYzjsbZaMPGnple1Ra",
      "include_colab_link": true
    },
    "kernelspec": {
      "name": "python3",
      "display_name": "Python 3"
    },
    "language_info": {
      "name": "python"
    }
  },
  "cells": [
    {
      "cell_type": "markdown",
      "metadata": {
        "id": "view-in-github",
        "colab_type": "text"
      },
      "source": [
        "<a href=\"https://colab.research.google.com/github/fedorovgv/WIT/blob/main/stat.ipynb\" target=\"_parent\"><img src=\"https://colab.research.google.com/assets/colab-badge.svg\" alt=\"Open In Colab\"/></a>"
      ]
    },
    {
      "cell_type": "code",
      "execution_count": null,
      "metadata": {
        "id": "sSGe7W830G0Y"
      },
      "outputs": [],
      "source": [
        "# !pip install folium"
      ]
    },
    {
      "cell_type": "code",
      "source": [
        "# import folium\n",
        "# m = folium.Map(location=(40.74865840907713, -73.98537707222937), zoom_start=10)\n",
        "# m"
      ],
      "metadata": {
        "id": "ywSrT2Si1SAm"
      },
      "execution_count": null,
      "outputs": []
    },
    {
      "cell_type": "code",
      "source": [
        "import pandas as pd\n",
        "\n",
        "# дли визуализации\n",
        "import matplotlib.pyplot as plt\n",
        "import seaborn as sns"
      ],
      "metadata": {
        "id": "EkA6xTUw1VOk"
      },
      "execution_count": null,
      "outputs": []
    },
    {
      "cell_type": "code",
      "source": [
        "# !wget https://www.dropbox.com/s/g909ex3pds1vi1a/train.csv?dl=1\n",
        "# !mv train.csv?dl=1 train.csv"
      ],
      "metadata": {
        "id": "8HWElqsW6kcq"
      },
      "execution_count": null,
      "outputs": []
    },
    {
      "cell_type": "code",
      "source": [
        "# data = pd.read_csv('train.csv')"
      ],
      "metadata": {
        "id": "UvVMd78u6v4X"
      },
      "execution_count": null,
      "outputs": []
    },
    {
      "cell_type": "code",
      "source": [
        "# data"
      ],
      "metadata": {
        "id": "Gxi5dHu07nwD"
      },
      "execution_count": 2,
      "outputs": []
    },
    {
      "cell_type": "code",
      "source": [
        "# g = sns.displot(data, x='trip_duration', bins=125)\n",
        "\n",
        "# g = g.set(\n",
        "#     xlabel='Количество',\n",
        "#     ylabel='Продолжительность поездки',\n",
        "#     title='Распределение продолжительности поездки',\n",
        "# )\n",
        "\n",
        "# g.fig.set_figwidth(10)\n",
        "# g.fig.set_figheight(8)\n",
        "\n",
        "# plt.show(g)"
      ],
      "metadata": {
        "id": "l9qylzCc1cBc"
      },
      "execution_count": 3,
      "outputs": []
    },
    {
      "cell_type": "code",
      "source": [],
      "metadata": {
        "id": "J6eqEvZJ6Mw0"
      },
      "execution_count": null,
      "outputs": []
    }
  ]
}