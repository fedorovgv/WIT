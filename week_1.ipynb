{
  "nbformat": 4,
  "nbformat_minor": 0,
  "metadata": {
    "colab": {
      "provenance": [],
      "authorship_tag": "ABX9TyNNDPradZuMDIWIJFuQv75U",
      "include_colab_link": true
    },
    "kernelspec": {
      "name": "python3",
      "display_name": "Python 3"
    },
    "language_info": {
      "name": "python"
    }
  },
  "cells": [
    {
      "cell_type": "markdown",
      "metadata": {
        "id": "view-in-github",
        "colab_type": "text"
      },
      "source": [
        "<a href=\"https://colab.research.google.com/github/fedorovgv/WIT/blob/main/week_1.ipynb\" target=\"_parent\"><img src=\"https://colab.research.google.com/assets/colab-badge.svg\" alt=\"Open In Colab\"/></a>"
      ]
    },
    {
      "cell_type": "markdown",
      "source": [
        "### **Материалы к неделе 1**"
      ],
      "metadata": {
        "id": "E_hiJRYYiQ40"
      }
    },
    {
      "cell_type": "markdown",
      "source": [
        "#### **функция** `print`"
      ],
      "metadata": {
        "id": "erzv1IMajWl-"
      }
    },
    {
      "cell_type": "markdown",
      "source": [
        "напечатаем простую фразу \"Hello world!\""
      ],
      "metadata": {
        "id": "5wGU_V6dAVVI"
      }
    },
    {
      "cell_type": "code",
      "source": [
        "print('Hello world!')"
      ],
      "metadata": {
        "colab": {
          "base_uri": "https://localhost:8080/"
        },
        "id": "bnQdjufgjg3G",
        "outputId": "6dbe56d0-a81e-4c39-d60c-e8248f836d04"
      },
      "execution_count": 2,
      "outputs": [
        {
          "output_type": "stream",
          "name": "stdout",
          "text": [
            "Hello world!\n"
          ]
        }
      ]
    },
    {
      "cell_type": "markdown",
      "source": [
        "Функция постарается напечатать то, что вы напишите в круглых скобках. Но, можно ничего не передавать, тогда функция напечатаем пустую строку."
      ],
      "metadata": {
        "id": "LLZ7PhZ-mj1g"
      }
    },
    {
      "cell_type": "code",
      "source": [
        "print()"
      ],
      "metadata": {
        "colab": {
          "base_uri": "https://localhost:8080/"
        },
        "id": "tksK3xNZmem6",
        "outputId": "c90c78ae-1716-4199-b58f-cefcea65ffb7"
      },
      "execution_count": 3,
      "outputs": [
        {
          "output_type": "stream",
          "name": "stdout",
          "text": [
            "\n"
          ]
        }
      ]
    },
    {
      "cell_type": "code",
      "source": [
        "print(\"Hello, World!\")\n",
        "print()\n",
        "print(\"Hello, World!\")"
      ],
      "metadata": {
        "colab": {
          "base_uri": "https://localhost:8080/"
        },
        "id": "zI5yzgbMnAn6",
        "outputId": "d8ff8749-b337-46d2-b4de-32db7acde497"
      },
      "execution_count": 4,
      "outputs": [
        {
          "output_type": "stream",
          "name": "stdout",
          "text": [
            "Hello, World!\n",
            "\n",
            "Hello, World!\n"
          ]
        }
      ]
    },
    {
      "cell_type": "markdown",
      "source": [
        "Не обазятельно передавать только одну строку в круглые скобки. Можно передавать любое число строк и чисел."
      ],
      "metadata": {
        "id": "aTWdfj7JnLRr"
      }
    },
    {
      "cell_type": "code",
      "source": [
        "print('Здравствуйте,', 'рад', 'видеть', 'вас', 'на', 'этой', 'странице!')"
      ],
      "metadata": {
        "colab": {
          "base_uri": "https://localhost:8080/"
        },
        "id": "Npf11Erqmero",
        "outputId": "1d4a3bc2-94e1-43fd-b6e6-b007fbea7e6e"
      },
      "execution_count": 8,
      "outputs": [
        {
          "output_type": "stream",
          "name": "stdout",
          "text": [
            "Здравствуйте, рад видеть вас на этой странице!\n"
          ]
        }
      ]
    },
    {
      "cell_type": "code",
      "source": [
        "print(1,2,3,4,5,6,7)"
      ],
      "metadata": {
        "colab": {
          "base_uri": "https://localhost:8080/"
        },
        "id": "KevueK3MpTZU",
        "outputId": "3ab18ffe-f157-4e94-9e1e-a82e7d5c0ff8"
      },
      "execution_count": 9,
      "outputs": [
        {
          "output_type": "stream",
          "name": "stdout",
          "text": [
            "1 2 3 4 5 6 7\n"
          ]
        }
      ]
    },
    {
      "cell_type": "code",
      "source": [
        "print(1, 'один', 2, 'два', 3, 'три')"
      ],
      "metadata": {
        "colab": {
          "base_uri": "https://localhost:8080/"
        },
        "id": "uqq4h-6hpXwu",
        "outputId": "6b190aad-ef1c-4bc8-cddb-f1a33eca16a0"
      },
      "execution_count": 10,
      "outputs": [
        {
          "output_type": "stream",
          "name": "stdout",
          "text": [
            "1 один 2 два 3 три\n"
          ]
        }
      ]
    },
    {
      "cell_type": "markdown",
      "source": [
        "Если вы хотите написать текст в двух (нескольких) строках, то это можно сделать двумя разными способами: \n",
        "\n",
        "- делать два (несколько) функций print \n",
        "- использовать специальный символ `\\n` который обозначает перенос строки\n",
        "\n",
        "Это бывает полезно, когда мы хотим сделать, например, список."
      ],
      "metadata": {
        "id": "UZUAfa2An3Bc"
      }
    },
    {
      "cell_type": "code",
      "source": [
        "# первый вариант\n",
        "\n",
        "print('это первая строка')\n",
        "print('это вторая строка')"
      ],
      "metadata": {
        "colab": {
          "base_uri": "https://localhost:8080/"
        },
        "id": "bLm9MUJEn2KQ",
        "outputId": "1c60b90f-6752-45a4-e13e-3e5d15bb556b"
      },
      "execution_count": 12,
      "outputs": [
        {
          "output_type": "stream",
          "name": "stdout",
          "text": [
            "это первая строка\n",
            "это вторая строка\n"
          ]
        }
      ]
    },
    {
      "cell_type": "markdown",
      "source": [
        "Теперь давайте попробуем использовать символ `\\n`. Его нужно вставлять в тот момент, когда вы хотите перенести строку. Причем сам он не будет напечатан. "
      ],
      "metadata": {
        "id": "tHFo3JLiqcIp"
      }
    },
    {
      "cell_type": "code",
      "source": [
        "# второй вариант\n",
        "\n",
        "print('это первая строка\\nэто будет вторая строка')"
      ],
      "metadata": {
        "colab": {
          "base_uri": "https://localhost:8080/"
        },
        "id": "FxLDHnjYn2UJ",
        "outputId": "ec24d45e-106a-483c-904d-2e28194bb4ea"
      },
      "execution_count": 14,
      "outputs": [
        {
          "output_type": "stream",
          "name": "stdout",
          "text": [
            "это первая строка\n",
            "это будет вторая строка\n"
          ]
        }
      ]
    },
    {
      "cell_type": "markdown",
      "source": [
        "Обратите внимание, что мы не ставим пробел после `\\n` так как вторая строка начинается сразу после этого символа. (Иначе этот пробел будет напечатан в начале другой строки). Давайте попробуем."
      ],
      "metadata": {
        "id": "tKKkztv1q35c"
      }
    },
    {
      "cell_type": "code",
      "source": [
        "print('это первая строка\\n это будет вторая строка')"
      ],
      "metadata": {
        "colab": {
          "base_uri": "https://localhost:8080/"
        },
        "id": "2IzW1jimn2Xg",
        "outputId": "9ca15605-1d9a-405f-dee1-8ba3a9566589"
      },
      "execution_count": 15,
      "outputs": [
        {
          "output_type": "stream",
          "name": "stdout",
          "text": [
            "это первая строка\n",
            " это будет вторая строка\n"
          ]
        }
      ]
    },
    {
      "cell_type": "markdown",
      "source": [
        "**0. Упражнение** \n",
        "\n",
        "Давайте предположим, что вы директор вещевого магазина и вы составляете список вещей, который необходимо купить на следующий месяц. Поскольку сейчас наступает осень, то вам нужно закупать теплые вещи: куртки, пальто и теплые штаны. \n",
        "\n",
        "Напечатайте список необходимых вещей в виде: \n",
        "\n",
        "1. куртки\n",
        "2. пальто\n",
        "3. теплые штаны\n",
        "\n",
        "Используйте функцию `print`. Попробуйте сделать это первым и вторым вариантом, о которых говорилось выше."
      ],
      "metadata": {
        "id": "jz_zWGPYrWgQ"
      }
    },
    {
      "cell_type": "code",
      "source": [
        "# <ваше решение>\n",
        "\n",
        "print(...)\n",
        "\n",
        "print(...)\n"
      ],
      "metadata": {
        "id": "v5Gm6Q8atlme"
      },
      "execution_count": null,
      "outputs": []
    },
    {
      "cell_type": "markdown",
      "source": [
        "<details><summary>Решение (можно нажать на меня после выполнения и сверить решение)</summary>\n",
        "\n",
        "**первый вариант:**\n",
        "\n",
        "```\n",
        "print('1. куртки')\n",
        "print('2. пальто')\n",
        "print('3. теплые штаны')\n",
        "```\n",
        "\n",
        "так же можно\n",
        "\n",
        "```\n",
        "print(1, 'куртки')\n",
        "print(2, 'пальто')\n",
        "print(3, 'теплые штаны')\n",
        "```\n",
        "\n",
        "**второй вариант:**\n",
        "```\n",
        "print('1. куртки\\n2. пальто\\n3. теплые штаны')\n",
        "```\n",
        "\n",
        "</details>"
      ],
      "metadata": {
        "id": "5c_MCbXot_nE"
      }
    },
    {
      "cell_type": "markdown",
      "source": [
        "Теперь поговорим о дополнительных возможностях функции `print`.\n",
        "\n",
        "1. `sep` - от слова separator (разделитель), мы указываем разделитель для элементов, которые мы передаем в функцию `print`\n",
        "2. `end` - от слова end (конец), мы указываем элемент, который будет стоять на конце строки\n",
        "\n",
        "Давайте посмотрим как это работает, сначала функция `sep`. Передадим в функцию `print` несколько чисел и укажем `sep='.'`."
      ],
      "metadata": {
        "id": "wk18vs8vvVGZ"
      }
    },
    {
      "cell_type": "code",
      "source": [
        "print(1, 2, 3, sep='.')"
      ],
      "metadata": {
        "colab": {
          "base_uri": "https://localhost:8080/"
        },
        "id": "iOYnlL4ft-3t",
        "outputId": "3a1b753b-83b0-4474-98c0-3994ca4cd9d6"
      },
      "execution_count": 17,
      "outputs": [
        {
          "output_type": "stream",
          "name": "stdout",
          "text": [
            "1.2.3\n"
          ]
        }
      ]
    },
    {
      "cell_type": "markdown",
      "source": [
        " Можно видеть, что числа разделяются точкой, то есть тем, что мы передали в `sep`. \n",
        " \n",
        " Попробуем дописать после точки пробел `sep='. '`."
      ],
      "metadata": {
        "id": "ItpONvd_xMBD"
      }
    },
    {
      "cell_type": "code",
      "source": [
        "print(1, 2, 3, sep='. ')"
      ],
      "metadata": {
        "colab": {
          "base_uri": "https://localhost:8080/"
        },
        "id": "nAkIXuxiw2cS",
        "outputId": "a07772d6-42fe-4d5c-a855-862701009813"
      },
      "execution_count": 18,
      "outputs": [
        {
          "output_type": "stream",
          "name": "stdout",
          "text": [
            "1. 2. 3\n"
          ]
        }
      ]
    },
    {
      "cell_type": "markdown",
      "source": [
        "В качестве значения `sep` можно взять в том числе символ `\\n`. Тогда переданные в `print` элменты будут разделены переносом строки: "
      ],
      "metadata": {
        "id": "EO0toNPtxgJF"
      }
    },
    {
      "cell_type": "code",
      "source": [
        "print(1, 2, 3, sep='\\n')"
      ],
      "metadata": {
        "colab": {
          "base_uri": "https://localhost:8080/"
        },
        "id": "EokEmve5w2fK",
        "outputId": "0a84a12c-310b-4fce-deb0-b4edb8b8f43f"
      },
      "execution_count": 19,
      "outputs": [
        {
          "output_type": "stream",
          "name": "stdout",
          "text": [
            "1\n",
            "2\n",
            "3\n"
          ]
        }
      ]
    },
    {
      "cell_type": "markdown",
      "source": [
        "**1. Упражнение**\n",
        "\n",
        "Вернемся к нашему магазину и давайте попробуем напечатать список из упражения 0 с помощью `sep`."
      ],
      "metadata": {
        "id": "qL-qpdQrx408"
      }
    },
    {
      "cell_type": "code",
      "source": [
        "# <ваше решение>\n",
        "\n",
        "print(..., sep=...)"
      ],
      "metadata": {
        "id": "3O2trTVhx5Ky"
      },
      "execution_count": null,
      "outputs": []
    },
    {
      "cell_type": "markdown",
      "source": [
        "<details><summary>Решение (можно нажать на меня после выполнения и сверить решение)</summary>\n",
        "\n",
        "```\n",
        "print('1. куртки', '2. пальто', '3. теплые штаны', sep='\\n')\n",
        "```\n",
        "\n",
        "</details>"
      ],
      "metadata": {
        "id": "OvofVIAByWQG"
      }
    },
    {
      "cell_type": "markdown",
      "source": [
        "Рассмотрим теперь значение `end`. Он говорит нам о том, как должна заканчиваться вывод строки или строк переданные в `print`. Пример: "
      ],
      "metadata": {
        "id": "kUt_DTsOypM4"
      }
    },
    {
      "cell_type": "code",
      "source": [
        "print('Hello world', end='!')"
      ],
      "metadata": {
        "colab": {
          "base_uri": "https://localhost:8080/"
        },
        "id": "vJbFNY6Kx5QW",
        "outputId": "ad9d1fb2-f743-4eeb-f88b-f40ccc65da70"
      },
      "execution_count": 20,
      "outputs": [
        {
          "output_type": "stream",
          "name": "stdout",
          "text": [
            "Hello world!"
          ]
        }
      ]
    },
    {
      "cell_type": "code",
      "source": [
        "print('Hello', 'world', end='!')"
      ],
      "metadata": {
        "colab": {
          "base_uri": "https://localhost:8080/"
        },
        "id": "BoNOZkgnx5TL",
        "outputId": "3656e15b-ba41-4ac6-9add-0b9501098382"
      },
      "execution_count": 22,
      "outputs": [
        {
          "output_type": "stream",
          "name": "stdout",
          "text": [
            "Hello world!"
          ]
        }
      ]
    },
    {
      "cell_type": "markdown",
      "source": [
        "Интересно, что по умолчанию `end` равен `\\n`, поэтому когда мы его не указываем, то при выполнение двух фукнций `print` подряд результат второй строки будет напечататн на следующей стране."
      ],
      "metadata": {
        "id": "5jweKkfi07d9"
      }
    },
    {
      "cell_type": "code",
      "source": [
        "print('первая строка')\n",
        "print('вторая строка')"
      ],
      "metadata": {
        "colab": {
          "base_uri": "https://localhost:8080/"
        },
        "id": "5Q5tBVG7x5VM",
        "outputId": "5732a26e-c0ea-4e1e-9efb-d92103b66f83"
      },
      "execution_count": 23,
      "outputs": [
        {
          "output_type": "stream",
          "name": "stdout",
          "text": [
            "первая строка\n",
            "вторая строка\n"
          ]
        }
      ]
    },
    {
      "cell_type": "markdown",
      "source": [
        "`end` бывает полезно, когда мы не хотим делать перенос строки. Пример: "
      ],
      "metadata": {
        "id": "5HOdNIBy1xho"
      }
    },
    {
      "cell_type": "code",
      "source": [
        "print('введите пароль:', end=' ') \n",
        "print('qwerty123')"
      ],
      "metadata": {
        "colab": {
          "base_uri": "https://localhost:8080/"
        },
        "id": "4S2oNH_Q9Y3Q",
        "outputId": "9688a9f6-a12b-4d33-d864-0be3c5ad87c1"
      },
      "execution_count": 24,
      "outputs": [
        {
          "output_type": "stream",
          "name": "stdout",
          "text": [
            "введите пароль: qwerty123\n"
          ]
        }
      ]
    },
    {
      "cell_type": "markdown",
      "source": [
        "#### **напоминание о типах**\n",
        "\n",
        "Базовыми типами объектов в питоне являются строка `str`, целые числа `int` и числа с плавающей точкой `float`. Посмотреть тип объекта можно с помощью функции `type()`."
      ],
      "metadata": {
        "id": "cfy1oFvhinbj"
      }
    },
    {
      "cell_type": "markdown",
      "source": [
        "Пример: "
      ],
      "metadata": {
        "id": "WMhI_lvpAaYL"
      }
    },
    {
      "cell_type": "code",
      "source": [
        "type(1)"
      ],
      "metadata": {
        "colab": {
          "base_uri": "https://localhost:8080/"
        },
        "id": "jQQvtwqK-N_t",
        "outputId": "a71af95a-9c04-496e-998d-23def8397b57"
      },
      "execution_count": 26,
      "outputs": [
        {
          "output_type": "execute_result",
          "data": {
            "text/plain": [
              "int"
            ]
          },
          "metadata": {},
          "execution_count": 26
        }
      ]
    },
    {
      "cell_type": "code",
      "source": [
        "type(1.01)"
      ],
      "metadata": {
        "colab": {
          "base_uri": "https://localhost:8080/"
        },
        "id": "SrIKI3KG-QWN",
        "outputId": "796946df-0d2f-4af2-c4e5-1dd83f841152"
      },
      "execution_count": 27,
      "outputs": [
        {
          "output_type": "execute_result",
          "data": {
            "text/plain": [
              "float"
            ]
          },
          "metadata": {},
          "execution_count": 27
        }
      ]
    },
    {
      "cell_type": "code",
      "source": [
        "type(\"Hello world!\")"
      ],
      "metadata": {
        "colab": {
          "base_uri": "https://localhost:8080/"
        },
        "id": "P9b9Jqnc-QZN",
        "outputId": "9d5901bd-7018-4a59-c631-e3c4db38b014"
      },
      "execution_count": 28,
      "outputs": [
        {
          "output_type": "execute_result",
          "data": {
            "text/plain": [
              "str"
            ]
          },
          "metadata": {},
          "execution_count": 28
        }
      ]
    },
    {
      "cell_type": "markdown",
      "source": [
        "##### **строки**\n",
        "\n",
        "В питоне есть объекты типа `str` - строки. Пример: "
      ],
      "metadata": {
        "id": "mrk3b7Zoi46h"
      }
    },
    {
      "cell_type": "code",
      "execution_count": 25,
      "metadata": {
        "colab": {
          "base_uri": "https://localhost:8080/",
          "height": 35
        },
        "id": "w7lsSrWgiMdB",
        "outputId": "7d539a8d-cfaf-46bf-8515-2f0436c45d38"
      },
      "outputs": [
        {
          "output_type": "execute_result",
          "data": {
            "text/plain": [
              "'Hello world!'"
            ],
            "application/vnd.google.colaboratory.intrinsic+json": {
              "type": "string"
            }
          },
          "metadata": {},
          "execution_count": 25
        }
      ],
      "source": [
        "\"Hello world!\""
      ]
    },
    {
      "cell_type": "code",
      "source": [],
      "metadata": {
        "id": "joCHHNL2jQtx"
      },
      "execution_count": null,
      "outputs": []
    },
    {
      "cell_type": "markdown",
      "source": [],
      "metadata": {
        "id": "_GHwRB9u-aJj"
      }
    },
    {
      "cell_type": "markdown",
      "source": [
        "##### **Числа и математические операции с ними**"
      ],
      "metadata": {
        "id": "1qRviudV-aQ4"
      }
    },
    {
      "cell_type": "code",
      "source": [],
      "metadata": {
        "id": "Ex1zSpvd-eNm"
      },
      "execution_count": null,
      "outputs": []
    }
  ]
}