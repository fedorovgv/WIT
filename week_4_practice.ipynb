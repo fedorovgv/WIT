{
  "nbformat": 4,
  "nbformat_minor": 0,
  "metadata": {
    "colab": {
      "provenance": [],
      "authorship_tag": "ABX9TyOIV2dWJ7/yo32NcAWpfCML",
      "include_colab_link": true
    },
    "kernelspec": {
      "name": "python3",
      "display_name": "Python 3"
    },
    "language_info": {
      "name": "python"
    }
  },
  "cells": [
    {
      "cell_type": "markdown",
      "metadata": {
        "id": "view-in-github",
        "colab_type": "text"
      },
      "source": [
        "<a href=\"https://colab.research.google.com/github/fedorovgv/WIT/blob/main/week_4_practice.ipynb\" target=\"_parent\"><img src=\"https://colab.research.google.com/assets/colab-badge.svg\" alt=\"Open In Colab\"/></a>"
      ]
    },
    {
      "cell_type": "markdown",
      "source": [
        "## **Трогаем фундамент**\n",
        "\n",
        "Мы заканчиваем изучать основы языка `Python` и пришло время попробовать язык в деле. Краткое резюме того, что мы уже знаем:\n",
        "\n",
        "- простые типа данных `int, str, bool ..`\n",
        "- условия `if .. else ..`\n",
        "- функций `def foo(): ..`\n",
        "- контейнеры `list, tuple, dict, set`\n"
      ],
      "metadata": {
        "id": "3izQPuc9VjOB"
      }
    },
    {
      "cell_type": "markdown",
      "source": [
        "### **Все новое - хорошо забытое старое**\n",
        "\n",
        "Вспомним для начала пройденное на 3 неделе, а именно, условия, циклы и фукнции. \n",
        "\n",
        "Краткое напоминание. \n",
        "\n",
        "**Операторы**\n",
        "\n",
        "В python существуют операторы сравнения, например, `==`, `!=`, `<`, `<=`, `>=`, '>'. Сравнивают числа и результатом из работы является `True` или `False` - логическое значение. Проверим:  "
      ],
      "metadata": {
        "id": "5Gtiog6AXS4U"
      }
    },
    {
      "cell_type": "code",
      "execution_count": 3,
      "metadata": {
        "colab": {
          "base_uri": "https://localhost:8080/"
        },
        "id": "rHP6-8xvVBsX",
        "outputId": "57eb94dc-275c-4088-fcc6-6c4c6fe94ec3"
      },
      "outputs": [
        {
          "output_type": "stream",
          "name": "stdout",
          "text": [
            "True\n"
          ]
        }
      ],
      "source": [
        "print(1 < 2)"
      ]
    },
    {
      "cell_type": "code",
      "source": [
        "type(1 < 2)"
      ],
      "metadata": {
        "colab": {
          "base_uri": "https://localhost:8080/"
        },
        "id": "OZfpUt1JYvgt",
        "outputId": "302c18b0-de75-4896-ed9d-95fa75753fb1"
      },
      "execution_count": 4,
      "outputs": [
        {
          "output_type": "execute_result",
          "data": {
            "text/plain": [
              "bool"
            ]
          },
          "metadata": {},
          "execution_count": 4
        }
      ]
    },
    {
      "cell_type": "markdown",
      "source": [
        "**Условия** (условные инструкции)\n",
        "\n",
        "Условие в питоне выглядит следующим образом: \n",
        "```Python\n",
        "if statement1 :  \n",
        "    do something if statement1 is true\n",
        "elif statement2 : \n",
        "    do something if statement2 is true\n",
        "elif statement3 : \n",
        "    do something if statement3 is true\n",
        "... \n",
        "else: \n",
        "   do something if the previous condition are false\n",
        "```\n",
        "\n",
        "Так же условия можно комбинировать и применять к ним логические операторы `and` и `or`.\n",
        "\n",
        "Например, мы хотим проверить, делится ли число на 6. Мы знаем, что для этого число должно делиться и на 2, и на 3. Положим число в переменную num и проверим его делимость. \n"
      ],
      "metadata": {
        "id": "631_8nEiY28g"
      }
    },
    {
      "cell_type": "code",
      "source": [
        "num = 66"
      ],
      "metadata": {
        "id": "TABzupOecUlY"
      },
      "execution_count": 5,
      "outputs": []
    },
    {
      "cell_type": "code",
      "source": [
        "# число делится на 2, когда остаток от его деления равен нулю\n",
        "num % 2 "
      ],
      "metadata": {
        "colab": {
          "base_uri": "https://localhost:8080/"
        },
        "id": "mwpY2soHcWgC",
        "outputId": "3246b20a-ba96-4f97-927e-361eca6d79fa"
      },
      "execution_count": 6,
      "outputs": [
        {
          "output_type": "execute_result",
          "data": {
            "text/plain": [
              "0"
            ]
          },
          "metadata": {},
          "execution_count": 6
        }
      ]
    },
    {
      "cell_type": "code",
      "source": [
        "# применим оператор сравнения, чтобы получить True или False\n",
        "num % 2 == 0 "
      ],
      "metadata": {
        "colab": {
          "base_uri": "https://localhost:8080/"
        },
        "id": "k41M6yqucf8t",
        "outputId": "bb516e15-25d4-46e8-ac70-2ad62ab92ae1"
      },
      "execution_count": 7,
      "outputs": [
        {
          "output_type": "execute_result",
          "data": {
            "text/plain": [
              "True"
            ]
          },
          "metadata": {},
          "execution_count": 7
        }
      ]
    },
    {
      "cell_type": "code",
      "source": [
        "# аналогично для 3\n",
        "num % 3 == 0"
      ],
      "metadata": {
        "colab": {
          "base_uri": "https://localhost:8080/"
        },
        "id": "CnUFKTY9cWtC",
        "outputId": "c5893815-adcc-424a-cbcf-052834581679"
      },
      "execution_count": 8,
      "outputs": [
        {
          "output_type": "execute_result",
          "data": {
            "text/plain": [
              "True"
            ]
          },
          "metadata": {},
          "execution_count": 8
        }
      ]
    },
    {
      "cell_type": "markdown",
      "source": [
        "Оператор `and` возращает `True` если значение справа и значение слева `True` или `False` иначе. \n",
        "\n",
        "Оператор `or` возращает `True` если хотя бы справа или хотя бы слева одно из значение `True` и `False` иначе."
      ],
      "metadata": {
        "id": "1ZKr9B0zcrAh"
      }
    },
    {
      "cell_type": "code",
      "source": [
        "True and True"
      ],
      "metadata": {
        "colab": {
          "base_uri": "https://localhost:8080/"
        },
        "id": "dmzH1g-PdRRb",
        "outputId": "60a570af-645d-4844-eda4-d58125f799dc"
      },
      "execution_count": 9,
      "outputs": [
        {
          "output_type": "execute_result",
          "data": {
            "text/plain": [
              "True"
            ]
          },
          "metadata": {},
          "execution_count": 9
        }
      ]
    },
    {
      "cell_type": "code",
      "source": [
        "False and True"
      ],
      "metadata": {
        "colab": {
          "base_uri": "https://localhost:8080/"
        },
        "id": "dTP9-_4idTKA",
        "outputId": "65a0c512-c6c3-4cd8-9517-5ef210f443b2"
      },
      "execution_count": 10,
      "outputs": [
        {
          "output_type": "execute_result",
          "data": {
            "text/plain": [
              "False"
            ]
          },
          "metadata": {},
          "execution_count": 10
        }
      ]
    },
    {
      "cell_type": "code",
      "source": [
        "False or True"
      ],
      "metadata": {
        "colab": {
          "base_uri": "https://localhost:8080/"
        },
        "id": "_-Ft-5osdVJF",
        "outputId": "d1ae4598-9795-422d-b28d-8b1426699af0"
      },
      "execution_count": 11,
      "outputs": [
        {
          "output_type": "execute_result",
          "data": {
            "text/plain": [
              "True"
            ]
          },
          "metadata": {},
          "execution_count": 11
        }
      ]
    },
    {
      "cell_type": "code",
      "source": [
        "False or False"
      ],
      "metadata": {
        "colab": {
          "base_uri": "https://localhost:8080/"
        },
        "id": "ZncaHlitdXOK",
        "outputId": "7d084b09-94b5-4527-e27a-70fdeb86cc1f"
      },
      "execution_count": 12,
      "outputs": [
        {
          "output_type": "execute_result",
          "data": {
            "text/plain": [
              "False"
            ]
          },
          "metadata": {},
          "execution_count": 12
        }
      ]
    },
    {
      "cell_type": "markdown",
      "source": [
        "Применим:"
      ],
      "metadata": {
        "id": "E-w4pp8fdgab"
      }
    },
    {
      "cell_type": "code",
      "source": [
        "# значение справа True, если число делится на 3, слева если делится на 2\n",
        "(num % 2 == 0) and (num % 3 == 0)  "
      ],
      "metadata": {
        "colab": {
          "base_uri": "https://localhost:8080/"
        },
        "id": "P3ubi2zfcqAd",
        "outputId": "ee12487e-e5f8-4c03-f95e-b2f2edeeaeb7"
      },
      "execution_count": 13,
      "outputs": [
        {
          "output_type": "execute_result",
          "data": {
            "text/plain": [
              "True"
            ]
          },
          "metadata": {},
          "execution_count": 13
        }
      ]
    },
    {
      "cell_type": "code",
      "source": [
        "num = 12345\n",
        "\n",
        "(num % 2 == 0) and (num % 3 == 0)  "
      ],
      "metadata": {
        "colab": {
          "base_uri": "https://localhost:8080/"
        },
        "id": "g2nyPjGQdwhJ",
        "outputId": "455e22d0-3b84-4e40-ca8b-0a02d6d8ef5f"
      },
      "execution_count": 14,
      "outputs": [
        {
          "output_type": "execute_result",
          "data": {
            "text/plain": [
              "False"
            ]
          },
          "metadata": {},
          "execution_count": 14
        }
      ]
    },
    {
      "cell_type": "markdown",
      "source": [
        "**Упражение 0.**\n",
        "\n",
        "Пример, пусть у нас есть переменная year, которая содержит год в периоде между 1801 и 2022 годом и нам нужно определить век. Выведите через print век в произвольной форме.\n",
        "\n",
        "- 1801 г. - 1901 г. -- 19 век\n",
        "- 1901 г. - 2001 г. -- 20 век\n",
        "- 2001 г. - 2022 г. -- 21 век\n",
        "\n",
        "Сделайте это с помощью условия: "
      ],
      "metadata": {
        "id": "1djbjgRbcE4e"
      }
    },
    {
      "cell_type": "code",
      "source": [
        "# положим что-то в переменную year\n",
        "year = 1985\n",
        "\n",
        "# ваш код должен быть ниже\n"
      ],
      "metadata": {
        "id": "rnI6nEUuY1hL"
      },
      "execution_count": null,
      "outputs": []
    },
    {
      "cell_type": "markdown",
      "source": [
        "<details><summary>Решение (можно нажать на меня после выполнения и сверить решение)</summary>\n",
        "\n",
        "```Python\n",
        "if (year >= 1801) and (year <= 1900):\n",
        "    print('19 век')\n",
        "elif (year >= 1901) and (year <= 2000):\n",
        "    print('20 век')\n",
        "elif (year >= 2001) and (year <= 2022):\n",
        "    print('21 век')\n",
        "```\n",
        "\n",
        "# или \n",
        "\n",
        "```Python\n",
        "if (year >= 1801) and (year <= 1900):\n",
        "    print('19 век')\n",
        "elif (year >= 1901) and (year <= 2000):\n",
        "    print('20 век')\n",
        "elif:\n",
        "    print('21 век')\n",
        "```\n",
        "</details>"
      ],
      "metadata": {
        "id": "e-EgEVEqa-Hz"
      }
    },
    {
      "cell_type": "code",
      "source": [],
      "metadata": {
        "id": "tO9LdcooeaIU"
      },
      "execution_count": null,
      "outputs": []
    }
  ]
}