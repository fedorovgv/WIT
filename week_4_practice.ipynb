{
  "nbformat": 4,
  "nbformat_minor": 0,
  "metadata": {
    "colab": {
      "provenance": [],
      "authorship_tag": "ABX9TyMRwcieY9EvSVfYKkNKoX7O",
      "include_colab_link": true
    },
    "kernelspec": {
      "name": "python3",
      "display_name": "Python 3"
    },
    "language_info": {
      "name": "python"
    }
  },
  "cells": [
    {
      "cell_type": "markdown",
      "metadata": {
        "id": "view-in-github",
        "colab_type": "text"
      },
      "source": [
        "<a href=\"https://colab.research.google.com/github/fedorovgv/WIT/blob/main/week_4_practice.ipynb\" target=\"_parent\"><img src=\"https://colab.research.google.com/assets/colab-badge.svg\" alt=\"Open In Colab\"/></a>"
      ]
    },
    {
      "cell_type": "markdown",
      "source": [
        "## **Трогаем фундамент**\n",
        "\n",
        "Мы заканчиваем изучать основы языка `Python` и пришло время попробовать язык в деле. Краткое резюме того, что мы уже знаем:\n",
        "\n",
        "- простые типа данных `int, str, bool ..`\n",
        "- условия `if .. else ..`\n",
        "- функций `def foo(): ..`\n",
        "- контейнеры `list, tuple, dict, set`\n"
      ],
      "metadata": {
        "id": "3izQPuc9VjOB"
      }
    },
    {
      "cell_type": "markdown",
      "source": [
        "### **Все новое - хорошо забытое старое**\n",
        "\n",
        "Вспомним для начала пройденное на 3 неделе, а именно, условия, циклы и фукнции. \n",
        "\n",
        "Краткое напоминание. \n",
        "\n",
        "**Операторы**\n",
        "\n",
        "В python существуют операторы сравнения, например, `==`, `!=`, `<`, `<=`, `>=`, '>'. Сравнивают числа и результатом из работы является `True` или `False` - логическое значение. Проверим:  "
      ],
      "metadata": {
        "id": "5Gtiog6AXS4U"
      }
    },
    {
      "cell_type": "code",
      "execution_count": 3,
      "metadata": {
        "colab": {
          "base_uri": "https://localhost:8080/"
        },
        "id": "rHP6-8xvVBsX",
        "outputId": "57eb94dc-275c-4088-fcc6-6c4c6fe94ec3"
      },
      "outputs": [
        {
          "output_type": "stream",
          "name": "stdout",
          "text": [
            "True\n"
          ]
        }
      ],
      "source": [
        "print(1 < 2)"
      ]
    },
    {
      "cell_type": "code",
      "source": [
        "type(1 < 2)"
      ],
      "metadata": {
        "colab": {
          "base_uri": "https://localhost:8080/"
        },
        "id": "OZfpUt1JYvgt",
        "outputId": "302c18b0-de75-4896-ed9d-95fa75753fb1"
      },
      "execution_count": 4,
      "outputs": [
        {
          "output_type": "execute_result",
          "data": {
            "text/plain": [
              "bool"
            ]
          },
          "metadata": {},
          "execution_count": 4
        }
      ]
    },
    {
      "cell_type": "markdown",
      "source": [
        "**Условия** (условные инструкции)\n",
        "\n",
        "Условие в питоне выглядит следующим образом: \n",
        "```Python\n",
        "if statement1 :  \n",
        "    do something if statement1 is true\n",
        "elif statement2 : \n",
        "    do something if statement2 is true\n",
        "elif statement3 : \n",
        "    do something if statement3 is true\n",
        "... \n",
        "else: \n",
        "   do something if the previous condition are false\n",
        "```\n",
        "\n",
        "Так же условия можно комбинировать и применять к ним логические операторы `and` и `or`.\n",
        "\n",
        "Например, мы хотим проверить, делится ли число на 6. Мы знаем, что для этого число должно делиться и на 2, и на 3. Положим число в переменную num и проверим его делимость. \n"
      ],
      "metadata": {
        "id": "631_8nEiY28g"
      }
    },
    {
      "cell_type": "code",
      "source": [
        "num = 66"
      ],
      "metadata": {
        "id": "TABzupOecUlY"
      },
      "execution_count": 5,
      "outputs": []
    },
    {
      "cell_type": "code",
      "source": [
        "# число делится на 2, когда остаток от его деления равен нулю\n",
        "num % 2 "
      ],
      "metadata": {
        "colab": {
          "base_uri": "https://localhost:8080/"
        },
        "id": "mwpY2soHcWgC",
        "outputId": "3246b20a-ba96-4f97-927e-361eca6d79fa"
      },
      "execution_count": 6,
      "outputs": [
        {
          "output_type": "execute_result",
          "data": {
            "text/plain": [
              "0"
            ]
          },
          "metadata": {},
          "execution_count": 6
        }
      ]
    },
    {
      "cell_type": "code",
      "source": [
        "# применим оператор сравнения, чтобы получить True или False\n",
        "num % 2 == 0 "
      ],
      "metadata": {
        "colab": {
          "base_uri": "https://localhost:8080/"
        },
        "id": "k41M6yqucf8t",
        "outputId": "bb516e15-25d4-46e8-ac70-2ad62ab92ae1"
      },
      "execution_count": 7,
      "outputs": [
        {
          "output_type": "execute_result",
          "data": {
            "text/plain": [
              "True"
            ]
          },
          "metadata": {},
          "execution_count": 7
        }
      ]
    },
    {
      "cell_type": "code",
      "source": [
        "# аналогично для 3\n",
        "num % 3 == 0"
      ],
      "metadata": {
        "colab": {
          "base_uri": "https://localhost:8080/"
        },
        "id": "CnUFKTY9cWtC",
        "outputId": "c5893815-adcc-424a-cbcf-052834581679"
      },
      "execution_count": 8,
      "outputs": [
        {
          "output_type": "execute_result",
          "data": {
            "text/plain": [
              "True"
            ]
          },
          "metadata": {},
          "execution_count": 8
        }
      ]
    },
    {
      "cell_type": "markdown",
      "source": [
        "Оператор `and` возращает `True` если значение справа и значение слева `True` или `False` иначе. \n",
        "\n",
        "Оператор `or` возращает `True` если хотя бы справа или хотя бы слева одно из значение `True` и `False` иначе."
      ],
      "metadata": {
        "id": "1ZKr9B0zcrAh"
      }
    },
    {
      "cell_type": "code",
      "source": [
        "True and True"
      ],
      "metadata": {
        "colab": {
          "base_uri": "https://localhost:8080/"
        },
        "id": "dmzH1g-PdRRb",
        "outputId": "60a570af-645d-4844-eda4-d58125f799dc"
      },
      "execution_count": 9,
      "outputs": [
        {
          "output_type": "execute_result",
          "data": {
            "text/plain": [
              "True"
            ]
          },
          "metadata": {},
          "execution_count": 9
        }
      ]
    },
    {
      "cell_type": "code",
      "source": [
        "False and True"
      ],
      "metadata": {
        "colab": {
          "base_uri": "https://localhost:8080/"
        },
        "id": "dTP9-_4idTKA",
        "outputId": "65a0c512-c6c3-4cd8-9517-5ef210f443b2"
      },
      "execution_count": 10,
      "outputs": [
        {
          "output_type": "execute_result",
          "data": {
            "text/plain": [
              "False"
            ]
          },
          "metadata": {},
          "execution_count": 10
        }
      ]
    },
    {
      "cell_type": "code",
      "source": [
        "False or True"
      ],
      "metadata": {
        "colab": {
          "base_uri": "https://localhost:8080/"
        },
        "id": "_-Ft-5osdVJF",
        "outputId": "d1ae4598-9795-422d-b28d-8b1426699af0"
      },
      "execution_count": 11,
      "outputs": [
        {
          "output_type": "execute_result",
          "data": {
            "text/plain": [
              "True"
            ]
          },
          "metadata": {},
          "execution_count": 11
        }
      ]
    },
    {
      "cell_type": "code",
      "source": [
        "False or False"
      ],
      "metadata": {
        "colab": {
          "base_uri": "https://localhost:8080/"
        },
        "id": "ZncaHlitdXOK",
        "outputId": "7d084b09-94b5-4527-e27a-70fdeb86cc1f"
      },
      "execution_count": 12,
      "outputs": [
        {
          "output_type": "execute_result",
          "data": {
            "text/plain": [
              "False"
            ]
          },
          "metadata": {},
          "execution_count": 12
        }
      ]
    },
    {
      "cell_type": "markdown",
      "source": [
        "Применим:"
      ],
      "metadata": {
        "id": "E-w4pp8fdgab"
      }
    },
    {
      "cell_type": "code",
      "source": [
        "# значение справа True, если число делится на 3, слева если делится на 2\n",
        "(num % 2 == 0) and (num % 3 == 0)  "
      ],
      "metadata": {
        "colab": {
          "base_uri": "https://localhost:8080/"
        },
        "id": "P3ubi2zfcqAd",
        "outputId": "ee12487e-e5f8-4c03-f95e-b2f2edeeaeb7"
      },
      "execution_count": 13,
      "outputs": [
        {
          "output_type": "execute_result",
          "data": {
            "text/plain": [
              "True"
            ]
          },
          "metadata": {},
          "execution_count": 13
        }
      ]
    },
    {
      "cell_type": "code",
      "source": [
        "num = 12345\n",
        "\n",
        "(num % 2 == 0) and (num % 3 == 0)  "
      ],
      "metadata": {
        "colab": {
          "base_uri": "https://localhost:8080/"
        },
        "id": "g2nyPjGQdwhJ",
        "outputId": "455e22d0-3b84-4e40-ca8b-0a02d6d8ef5f"
      },
      "execution_count": 14,
      "outputs": [
        {
          "output_type": "execute_result",
          "data": {
            "text/plain": [
              "False"
            ]
          },
          "metadata": {},
          "execution_count": 14
        }
      ]
    },
    {
      "cell_type": "markdown",
      "source": [
        "**Упражение 0.**\n",
        "\n",
        "Пример, пусть у нас есть переменная year, которая содержит год в периоде между 1801 и 2022 годом и нам нужно определить век. Выведите через print век в произвольной форме.\n",
        "\n",
        "- 1801 г. - 1901 г. -- 19 век\n",
        "- 1901 г. - 2001 г. -- 20 век\n",
        "- 2001 г. - 2022 г. -- 21 век\n",
        "\n",
        "Сделайте это с помощью условия: "
      ],
      "metadata": {
        "id": "1djbjgRbcE4e"
      }
    },
    {
      "cell_type": "code",
      "source": [
        "# положим что-то в переменную year\n",
        "year = 1985\n",
        "\n",
        "# ваш код должен быть ниже\n"
      ],
      "metadata": {
        "id": "rnI6nEUuY1hL"
      },
      "execution_count": null,
      "outputs": []
    },
    {
      "cell_type": "markdown",
      "source": [
        "<details><summary>Решение (можно нажать на меня после выполнения и сверить решение)</summary>\n",
        "\n",
        "```Python\n",
        "if (year >= 1801) and (year <= 1900):\n",
        "    print('19 век')\n",
        "elif (year >= 1901) and (year <= 2000):\n",
        "    print('20 век')\n",
        "elif (year >= 2001) and (year <= 2022):\n",
        "    print('21 век')\n",
        "```\n",
        "\n",
        "# или \n",
        "\n",
        "```Python\n",
        "if (year >= 1801) and (year <= 1900):\n",
        "    print('19 век')\n",
        "elif (year >= 1901) and (year <= 2000):\n",
        "    print('20 век')\n",
        "elif:\n",
        "    print('21 век')\n",
        "```\n",
        "</details>"
      ],
      "metadata": {
        "id": "e-EgEVEqa-Hz"
      }
    },
    {
      "cell_type": "markdown",
      "source": [
        "**Циклы**\n",
        "\n",
        "В `python` существуют циклы, которые помогают перебирать нам элементы - `for` и `while`. Конструкции: \n",
        "\n",
        "```Python\n",
        "for item in something:\n",
        "   do something \n",
        "```\n",
        "\n",
        "Пока мы перебираем значения `item` в `something` мы делаем `do something`. \n",
        "\n",
        "```Python\n",
        "while statement: \n",
        "    do something \n",
        "```\n",
        "\n",
        "Пока выполняется условие `statement` мы делаем `do something`. \n",
        "\n",
        "Обратите внимание на отступы! Отступом мы показываем кусок кода, который относится к if, else, elif и for, while. \n",
        "\n",
        "Пример: "
      ],
      "metadata": {
        "id": "Fr8SgiyXeqin"
      }
    },
    {
      "cell_type": "code",
      "source": [
        "years = [1980, 1987, 1995, 1996, 2010, 2022]\n",
        "for year in years:\n",
        "    print(year)"
      ],
      "metadata": {
        "colab": {
          "base_uri": "https://localhost:8080/"
        },
        "id": "tO9LdcooeaIU",
        "outputId": "e6a362ed-a419-4568-afd9-82f41c2c0906"
      },
      "execution_count": 15,
      "outputs": [
        {
          "output_type": "stream",
          "name": "stdout",
          "text": [
            "1980\n",
            "1987\n",
            "1995\n",
            "1996\n",
            "2010\n",
            "2022\n"
          ]
        }
      ]
    },
    {
      "cell_type": "code",
      "source": [
        "# вспомним, что мы можем обращаться к элементам листа по индексам и\n",
        "#  вспомним range из лекций переберем элементы листа по значениям\n",
        "\n",
        "years = [1980, 1987, 1995, 1996, 2010, 2022]\n",
        "\n",
        "for i in range(len(years)):\n",
        "    print(years[i])\n"
      ],
      "metadata": {
        "colab": {
          "base_uri": "https://localhost:8080/"
        },
        "id": "eKvQwiZEgfAJ",
        "outputId": "77576ffd-f98f-4469-c77e-6995b7276b30"
      },
      "execution_count": 16,
      "outputs": [
        {
          "output_type": "stream",
          "name": "stdout",
          "text": [
            "1980\n",
            "1987\n",
            "1995\n",
            "1996\n",
            "2010\n",
            "2022\n"
          ]
        }
      ]
    },
    {
      "cell_type": "code",
      "source": [
        "# выведем только первые три года\n",
        "\n",
        "years = [1980, 1987, 1995, 1996, 2010, 2022]\n",
        "\n",
        "i = 0\n",
        "while i < 3:\n",
        "    print(years[i])\n",
        "    i = i + 1 \n"
      ],
      "metadata": {
        "colab": {
          "base_uri": "https://localhost:8080/"
        },
        "id": "VAljXblvg1hN",
        "outputId": "b204b2d7-c9b0-46d2-f58b-ef826cfaea17"
      },
      "execution_count": 18,
      "outputs": [
        {
          "output_type": "stream",
          "name": "stdout",
          "text": [
            "1980\n",
            "1987\n",
            "1995\n"
          ]
        }
      ]
    },
    {
      "cell_type": "markdown",
      "source": [
        "Видим, что while работает только пока `i < 3`. Обратите внимание, что нам необходимо увеличивать значение i каждый раз самостоятельно. \n",
        "\n",
        "**Упражнение 1**\n",
        "\n",
        "Ниже вам дан массив `years`, использую результат упражнения 0 выведите для каждого года из массива его век используя for и while в формате `1907 это 20 век`.\n"
      ],
      "metadata": {
        "id": "7SnndfZGhDuG"
      }
    },
    {
      "cell_type": "code",
      "source": [
        "years = [1907, 1956, 1802, 1867, 2001, 2002, 1899]"
      ],
      "metadata": {
        "id": "NoP_ZL7JhAnW"
      },
      "execution_count": 19,
      "outputs": []
    },
    {
      "cell_type": "code",
      "source": [
        "# используйте for\n"
      ],
      "metadata": {
        "id": "DuVXF3qahlxn"
      },
      "execution_count": null,
      "outputs": []
    },
    {
      "cell_type": "code",
      "source": [
        "# используйте while\n"
      ],
      "metadata": {
        "id": "ERQdC_k8hoOW"
      },
      "execution_count": 20,
      "outputs": []
    },
    {
      "cell_type": "markdown",
      "source": [
        "<details><summary>Решение (можно нажать на меня после выполнения и сверить решение)</summary>\n",
        "\n",
        "```Python\n",
        "for year in years:\n",
        "  if (year >= 1801) and (year <= 1900):\n",
        "      print(year, ' это 19 век')\n",
        "  elif (year >= 1901) and (year <= 2000):\n",
        "      print(year, ' это 20 век')\n",
        "  elif (year >= 2001) and (year <= 2022):\n",
        "      print(year, ' это 21 век')\n",
        "```\n",
        "или\n",
        "```Python\n",
        "for i in range(len(years)):\n",
        "  if (years[i] >= 1801) and (years[i] <= 1900):\n",
        "      print(years[i], ' это 19 век')\n",
        "  elif (years[i] >= 1901) and (years[i] <= 2000):\n",
        "      print(years[i], ' это 20 век')\n",
        "  elif (years[i] >= 2001) and (years[i] <= 2022):\n",
        "      print(years[i], ' это 21 век')\n",
        "```\n",
        "\n",
        "или \n",
        "\n",
        "```Python\n",
        "i = 0\n",
        "while i < len(years):\n",
        "  if (years[i] >= 1801) and (years[i] <= 1900):\n",
        "      print('19 век')\n",
        "  elif (years[i] >= 1901) and (years[i] <= 2000):\n",
        "      print('20 век')\n",
        "  elif:\n",
        "      print('21 век')\n",
        "  i += 1\n",
        "```\n",
        "</details>"
      ],
      "metadata": {
        "id": "Lz_RVSmxhrHw"
      }
    },
    {
      "cell_type": "markdown",
      "source": [
        "**Функции**\n",
        "\n",
        "В `python` есть функции. Подобно функциям в математике они принимают значения, что-то с ними делают и возращают результат. Конструкция: \n",
        "\n",
        "```Python\n",
        "def name_of_function(variable_1, .. ,variable_n): \n",
        "    do something \n",
        "    return something\n",
        "```\n",
        "\n",
        "Объявление функции начинается с `def` - объявление функции. Ее названия - `name_of_function`. Лучше отображать суть функции в ее названии, например, `sum_three_value`, `calculate_median_of_array`и проч. \n",
        "\n",
        "В круглых скобках после названия функции перечисляются имена переменных, которые будут использоваться **внутри** функции. Затем отступом показываем, кусок кода, который относится к функции и словом return показываем, что именно мы хотим вернуть. Например, напишем функцию, которая складывает три числа: "
      ],
      "metadata": {
        "id": "UKR_jt-4imFs"
      }
    },
    {
      "cell_type": "code",
      "source": [
        "def sum_three_numbers(a, b, c):\n",
        "    result = a + b + c\n",
        "    return result"
      ],
      "metadata": {
        "id": "_al4nZB0hp55"
      },
      "execution_count": 21,
      "outputs": []
    },
    {
      "cell_type": "markdown",
      "source": [
        "Функции используются в том числе, чтобы экономить место в программах. Объявленную функцию мы можем вызывать в любой момент. Наша программа простая и сожержит две строки, но бывают функции которые содержат много строк и нам бы не хотелось писать все их в разные моменты времени. \n",
        "\n",
        "Применим функцию для трех чисел. Мы можем передать переменные или сразу значения: "
      ],
      "metadata": {
        "id": "uEHdSxKrkCGv"
      }
    },
    {
      "cell_type": "code",
      "source": [
        "# заведем переменные для чисел\n",
        "num1 = 1\n",
        "num2 = 12\n",
        "num3 = 3\n",
        "\n",
        "# передадим их в функцию и сохраним результат в переменную d\n",
        "d = sum_three_numbers(num1, num2, num3)\n",
        "\n",
        "print(d)"
      ],
      "metadata": {
        "colab": {
          "base_uri": "https://localhost:8080/"
        },
        "id": "h7YBNndakBNY",
        "outputId": "73551616-825e-4b8c-9a76-6de6308f943f"
      },
      "execution_count": 23,
      "outputs": [
        {
          "output_type": "stream",
          "name": "stdout",
          "text": [
            "16\n"
          ]
        }
      ]
    },
    {
      "cell_type": "code",
      "source": [
        "e = sum_three_numbers(1, 12, 3)\n",
        "\n",
        "print(e)"
      ],
      "metadata": {
        "colab": {
          "base_uri": "https://localhost:8080/"
        },
        "id": "ryuqtoXrkp5O",
        "outputId": "346cf88b-e2c7-4415-8004-51af8505cae3"
      },
      "execution_count": 24,
      "outputs": [
        {
          "output_type": "stream",
          "name": "stdout",
          "text": [
            "16\n"
          ]
        }
      ]
    },
    {
      "cell_type": "code",
      "source": [
        "num4 = 123\n",
        "f = sum_three_numbers(1, num4, 3)\n",
        "\n",
        "print(f)"
      ],
      "metadata": {
        "colab": {
          "base_uri": "https://localhost:8080/"
        },
        "id": "VHUI69yEk-Ov",
        "outputId": "75fbd91e-84bb-415b-b313-4789060704a4"
      },
      "execution_count": 26,
      "outputs": [
        {
          "output_type": "stream",
          "name": "stdout",
          "text": [
            "127\n"
          ]
        }
      ]
    },
    {
      "cell_type": "markdown",
      "source": [
        "**Упражнение 2**\n",
        "\n",
        "Напишите функцию, которая принимает год (переменную `y`) и возвращает True, если `y` - в 20 веке и False в 19 или 21 веке. Программу назовите, is_twenty_century. Протестируйте ее для произвольных номеров года."
      ],
      "metadata": {
        "id": "X4fTi9oblKaU"
      }
    },
    {
      "cell_type": "code",
      "source": [
        "# ваш код тут"
      ],
      "metadata": {
        "id": "PKSu06D_lFzT"
      },
      "execution_count": 27,
      "outputs": []
    },
    {
      "cell_type": "markdown",
      "source": [
        "<details><summary>Подсказка 0.</summary>\n",
        "\n",
        "```Python\n",
        "def is_twenty_century(y):\n",
        "   тут написать условную конструкцию из упр. 0\n",
        "```\n",
        "\n",
        "</details>"
      ],
      "metadata": {
        "id": "T1dU3ZHsmSP8"
      }
    },
    {
      "cell_type": "markdown",
      "source": [
        "<details><summary>Подсказка 1.</summary>\n",
        "\n",
        "Заведите переменную в которую будете складывать True или False, в зависимости от того, вылняется ли условие или нет и которое потом вернете.\n",
        "\n",
        "```Python\n",
        "def is_twenty_century(y):\n",
        "   if ... :     \n",
        "      result = .. \n",
        "   elif ... :     \n",
        "   ...\n",
        "   return result\n",
        "```\n",
        "\n",
        "</details>"
      ],
      "metadata": {
        "id": "dLzYRDGqmc92"
      }
    },
    {
      "cell_type": "markdown",
      "source": [
        "<details><summary>Решение (можно нажать на меня после выполнения и сверить решение)</summary>\n",
        "\n",
        "```Python\n",
        "def is_twenty_century(y):\n",
        "  if (y >= 1801) and (y <= 1900):\n",
        "      result = False\n",
        "  elif (y >= 1901) and (y <= 2000):\n",
        "      result = True\n",
        "  else:\n",
        "      result = False\n",
        "  return result\n",
        "```\n",
        "\n",
        "</details>"
      ],
      "metadata": {
        "id": "Bt1AvZNolydT"
      }
    },
    {
      "cell_type": "markdown",
      "source": [
        "**Упражнение 3**\n",
        "\n",
        "Напишите функцию, которая принимает лист годов (переменная `years_list`) и считает количество лет из 21 века. Функцию назовите `twenty_one_years_ccounter`.\n",
        "\n",
        "\n",
        "В данном задании вам необходимо в теле функции использовать цикл и внутри цикла напсать условную конструкцию, для этого нужно использовать двойные отступы. "
      ],
      "metadata": {
        "id": "a4BYoStWm7cZ"
      }
    },
    {
      "cell_type": "code",
      "source": [
        "# передайте этот массив в функцию в качестве переменной years_list\n",
        "years = [1907, 1956, 1802, 1867, 2001, 2002, 1899]"
      ],
      "metadata": {
        "id": "BbqMQP_XpI_Q"
      },
      "execution_count": 30,
      "outputs": []
    },
    {
      "cell_type": "code",
      "source": [
        "# ваш код тут"
      ],
      "metadata": {
        "id": "k0DTsYv1lxk9"
      },
      "execution_count": 32,
      "outputs": []
    },
    {
      "cell_type": "markdown",
      "source": [
        "<details><summary>Подсказка 0.</summary>\n",
        "\n",
        "```Python\n",
        "def twenty_one_years_countes(years_list):\n",
        "  ...  \n",
        "```\n",
        "\n",
        "\n",
        "</details>"
      ],
      "metadata": {
        "id": "gn52PaBbn__t"
      }
    },
    {
      "cell_type": "markdown",
      "source": [
        "<details><summary>Подсказка 1.</summary>\n",
        "\n",
        "Заведем переменную, которую будем увеличивать, если год из 21 века. \n",
        "\n",
        "```Python\n",
        "def twenty_one_years_counter(years_list):\n",
        "  counter = 0\n",
        "  for i in range(len(years_list)):\n",
        "    увеличиваем counter если выполняется условие\n",
        "  return counter\n",
        "```\n",
        "\n",
        "</details>"
      ],
      "metadata": {
        "id": "qMQjO_acoADS"
      }
    },
    {
      "cell_type": "markdown",
      "source": [
        "<details><summary>Решение.</summary>\n",
        "\n",
        "Заведем переменную, которую будем увеличивать, если год из 21 века. \n",
        "\n",
        "```Python\n",
        "def twenty_one_years_counter(years_list):\n",
        "  counter = 0\n",
        "  for i in range(len(years_list)):\n",
        "    if (years_list[i] >= 2001) and (years_list[i] <= 2100):\n",
        "        counter = counter + 1\n",
        "  return counter\n",
        "```\n",
        "\n",
        "</details>"
      ],
      "metadata": {
        "id": "1D52M2OkoAF4"
      }
    },
    {
      "cell_type": "markdown",
      "source": [
        "Теперь мы вспомнили основы языка и готовы начать наш большой профессиональный путь! \n",
        "\n",
        "Я обещал говорить вам о реальном применении тех или иных конструкций языка, но пройденные в данной тетрадке конструкции являются базисом и так часто используются, что через пару недель у вас не возникнет вопроса об применении на практике."
      ],
      "metadata": {
        "id": "IbUKoFbLqvyy"
      }
    },
    {
      "cell_type": "code",
      "source": [],
      "metadata": {
        "id": "17Nw7uTbrOU8"
      },
      "execution_count": null,
      "outputs": []
    }
  ]
}