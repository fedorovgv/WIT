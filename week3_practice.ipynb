{
  "nbformat": 4,
  "nbformat_minor": 0,
  "metadata": {
    "colab": {
      "provenance": [],
      "authorship_tag": "ABX9TyNtv5/ejEFz7VM+69MdNST8",
      "include_colab_link": true
    },
    "kernelspec": {
      "name": "python3",
      "display_name": "Python 3"
    },
    "language_info": {
      "name": "python"
    }
  },
  "cells": [
    {
      "cell_type": "markdown",
      "metadata": {
        "id": "view-in-github",
        "colab_type": "text"
      },
      "source": [
        "<a href=\"https://colab.research.google.com/github/fedorovgv/WIT/blob/main/week3_practice.ipynb\" target=\"_parent\"><img src=\"https://colab.research.google.com/assets/colab-badge.svg\" alt=\"Open In Colab\"/></a>"
      ]
    },
    {
      "cell_type": "markdown",
      "source": [
        "[високосный год](https://ru.wikipedia.org/wiki/%D0%92%D0%B8%D1%81%D0%BE%D0%BA%D0%BE%D1%81%D0%BD%D1%8B%D0%B9_%D0%B3%D0%BE%D0%B4)"
      ],
      "metadata": {
        "id": "RGhjsWJ1i3Bu"
      }
    },
    {
      "cell_type": "code",
      "source": [
        "year = 1985"
      ],
      "metadata": {
        "id": "Up-SFZwgevv_"
      },
      "execution_count": 1,
      "outputs": []
    },
    {
      "cell_type": "code",
      "source": [
        "# (1985 % 4) == 0\n",
        "(1985 % 400) == 0"
      ],
      "metadata": {
        "colab": {
          "base_uri": "https://localhost:8080/"
        },
        "id": "LebhgpVIe03P",
        "outputId": "e0ac192e-1940-4086-8a32-f453d0131304"
      },
      "execution_count": 4,
      "outputs": [
        {
          "output_type": "execute_result",
          "data": {
            "text/plain": [
              "False"
            ]
          },
          "metadata": {},
          "execution_count": 4
        }
      ]
    },
    {
      "cell_type": "code",
      "source": [
        "(year % 4) == 0"
      ],
      "metadata": {
        "colab": {
          "base_uri": "https://localhost:8080/"
        },
        "id": "GH_siMr1ghxx",
        "outputId": "c28a9c20-2c9b-4046-b0c2-4df272f9a542"
      },
      "execution_count": 5,
      "outputs": [
        {
          "output_type": "execute_result",
          "data": {
            "text/plain": [
              "False"
            ]
          },
          "metadata": {},
          "execution_count": 5
        }
      ]
    },
    {
      "cell_type": "code",
      "source": [
        "year = 1996\n",
        "\n",
        "if ((year % 4) == 0):\n",
        "  print('Год високосный')\n",
        "elif ((year % 400) == 0): \n",
        "  print('Год високосный')\n",
        "else:\n",
        "  print('Год не високосный')"
      ],
      "metadata": {
        "colab": {
          "base_uri": "https://localhost:8080/"
        },
        "id": "8P2bz3pqg1BO",
        "outputId": "ad16576b-aa2d-4ecd-bc94-596c20ea0260"
      },
      "execution_count": 19,
      "outputs": [
        {
          "output_type": "stream",
          "name": "stdout",
          "text": [
            "Год високосный\n"
          ]
        }
      ]
    },
    {
      "cell_type": "code",
      "source": [
        "dates = [1904, 1980, 1996, 2001, 2010]"
      ],
      "metadata": {
        "id": "odeZNlbqk_DK"
      },
      "execution_count": 20,
      "outputs": []
    },
    {
      "cell_type": "code",
      "source": [
        "year = dates[0]\n",
        "if ((year % 4) == 0):\n",
        "  print('Год високосный')\n",
        "elif ((year % 400) == 0): \n",
        "  print('Год високосный')\n",
        "else:\n",
        "  print('Год не високосный')"
      ],
      "metadata": {
        "colab": {
          "base_uri": "https://localhost:8080/"
        },
        "id": "Y7ofxKsirIXb",
        "outputId": "2c4a5fb1-e307-4b2d-e733-ae293402fa24"
      },
      "execution_count": 27,
      "outputs": [
        {
          "output_type": "stream",
          "name": "stdout",
          "text": [
            "Год високосный\n"
          ]
        }
      ]
    },
    {
      "cell_type": "code",
      "source": [
        "for i in range(len(dates)):\n",
        "  year = dates[i]\n",
        "\n",
        "  print('Год', year)\n",
        "  \n",
        "  if ((year % 4) == 0):\n",
        "    print('Год високосный')\n",
        "  elif ((year % 400) == 0): \n",
        "    print('Год високосный')\n",
        "  else:\n",
        "    print('Год не високосный')\n",
        "  "
      ],
      "metadata": {
        "colab": {
          "base_uri": "https://localhost:8080/"
        },
        "id": "DcerZHu0nrOy",
        "outputId": "694569ea-6456-4cd5-d585-164da00a61f9"
      },
      "execution_count": 28,
      "outputs": [
        {
          "output_type": "stream",
          "name": "stdout",
          "text": [
            "Год 1904\n",
            "Год високосный\n",
            "Год 1980\n",
            "Год високосный\n",
            "Год 1996\n",
            "Год високосный\n",
            "Год 2001\n",
            "Год не високосный\n",
            "Год 2010\n",
            "Год не високосный\n"
          ]
        }
      ]
    },
    {
      "cell_type": "code",
      "source": [
        "dates = [1924, 1982, 1999, 2021, 2056]"
      ],
      "metadata": {
        "id": "-8i-n9PgpFwP"
      },
      "execution_count": 29,
      "outputs": []
    },
    {
      "cell_type": "code",
      "source": [
        "for i in range(len(dates)):\n",
        "  year = dates[i]\n",
        "\n",
        "  print('Год', year)\n",
        "  \n",
        "  if ((year % 4) == 0):\n",
        "    print('Год високосный')\n",
        "  elif ((year % 400) == 0): \n",
        "    print('Год високосный')\n",
        "  else:\n",
        "    print('Год не високосный')"
      ],
      "metadata": {
        "colab": {
          "base_uri": "https://localhost:8080/"
        },
        "id": "MW92bLsssl1a",
        "outputId": "98443e67-bc70-45cb-b21f-dafb1fe2decd"
      },
      "execution_count": 30,
      "outputs": [
        {
          "output_type": "stream",
          "name": "stdout",
          "text": [
            "Год 1924\n",
            "Год високосный\n",
            "Год 1982\n",
            "Год не високосный\n",
            "Год 1999\n",
            "Год не високосный\n",
            "Год 2021\n",
            "Год не високосный\n",
            "Год 2056\n",
            "Год високосный\n"
          ]
        }
      ]
    },
    {
      "cell_type": "code",
      "source": [
        "def is_year_leap(a):\n",
        "  if ((a % 4) == 0):\n",
        "    print('Год високосный')\n",
        "  elif ((a % 400) == 0): \n",
        "    print('Год високосный')\n",
        "  else:\n",
        "    print('Год не високосный')"
      ],
      "metadata": {
        "id": "2Mdyk4d4smhS"
      },
      "execution_count": 41,
      "outputs": []
    },
    {
      "cell_type": "code",
      "source": [
        "is_year_leap(1984)"
      ],
      "metadata": {
        "colab": {
          "base_uri": "https://localhost:8080/"
        },
        "id": "Yu3H9NfDsyDl",
        "outputId": "3612dfd0-e4ad-4cd2-8bf3-17d52ae18c28"
      },
      "execution_count": 42,
      "outputs": [
        {
          "output_type": "stream",
          "name": "stdout",
          "text": [
            "Год високосный\n"
          ]
        }
      ]
    },
    {
      "cell_type": "code",
      "source": [
        "for i in range(len(dates)):\n",
        "  print('Год', year, end=' ')\n",
        "  is_year_leap(dates[i])"
      ],
      "metadata": {
        "colab": {
          "base_uri": "https://localhost:8080/"
        },
        "id": "1otuCT35t3-Z",
        "outputId": "7d0296d3-5646-49f3-eed4-0a2a479429bb"
      },
      "execution_count": 43,
      "outputs": [
        {
          "output_type": "stream",
          "name": "stdout",
          "text": [
            "Год 2056 Год високосный\n",
            "Год 2056 Год не високосный\n",
            "Год 2056 Год не високосный\n",
            "Год 2056 Год не високосный\n",
            "Год 2056 Год високосный\n"
          ]
        }
      ]
    },
    {
      "cell_type": "code",
      "source": [
        "def do_nothing():\n",
        "  print('do nothing')"
      ],
      "metadata": {
        "id": "a-CbGeSGuM1Z"
      },
      "execution_count": 44,
      "outputs": []
    },
    {
      "cell_type": "code",
      "source": [
        "do_nothing()"
      ],
      "metadata": {
        "colab": {
          "base_uri": "https://localhost:8080/"
        },
        "id": "MYE5rgZEwGiL",
        "outputId": "eaec1088-1f2d-4c2d-845c-fcde3f822942"
      },
      "execution_count": 46,
      "outputs": [
        {
          "output_type": "stream",
          "name": "stdout",
          "text": [
            "do nothing\n"
          ]
        }
      ]
    },
    {
      "cell_type": "code",
      "source": [
        "def custom_sum(a, b):\n",
        "  print(a + b)"
      ],
      "metadata": {
        "id": "ga_bx5VLwJGV"
      },
      "execution_count": 47,
      "outputs": []
    },
    {
      "cell_type": "code",
      "source": [
        "custom_sum(1, 2)"
      ],
      "metadata": {
        "colab": {
          "base_uri": "https://localhost:8080/"
        },
        "id": "r55b1WOawUaU",
        "outputId": "bd727b43-4041-4c44-b1d8-72ba2b0b179a"
      },
      "execution_count": 48,
      "outputs": [
        {
          "output_type": "stream",
          "name": "stdout",
          "text": [
            "3\n"
          ]
        }
      ]
    },
    {
      "cell_type": "code",
      "source": [
        "def custom_sum(a, b):\n",
        "  return a + b"
      ],
      "metadata": {
        "id": "KNGdFvbpwfy9"
      },
      "execution_count": 50,
      "outputs": []
    },
    {
      "cell_type": "code",
      "source": [
        "a = 4\n",
        "b = 5\n",
        "c = custom_sum(a, b)"
      ],
      "metadata": {
        "id": "lgdCCP6Cw2va"
      },
      "execution_count": 51,
      "outputs": []
    },
    {
      "cell_type": "code",
      "source": [
        "c"
      ],
      "metadata": {
        "colab": {
          "base_uri": "https://localhost:8080/"
        },
        "id": "It40QVm8w9Pm",
        "outputId": "68bafa4f-961f-4b01-d982-571ea07f77e6"
      },
      "execution_count": 52,
      "outputs": [
        {
          "output_type": "execute_result",
          "data": {
            "text/plain": [
              "9"
            ]
          },
          "metadata": {},
          "execution_count": 52
        }
      ]
    },
    {
      "cell_type": "code",
      "source": [],
      "metadata": {
        "id": "SWC6nR04xAnO"
      },
      "execution_count": null,
      "outputs": []
    }
  ]
}